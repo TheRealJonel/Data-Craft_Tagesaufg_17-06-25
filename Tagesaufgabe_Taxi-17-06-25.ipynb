{
 "cells": [
  {
   "cell_type": "code",
   "execution_count": null,
   "id": "3e5bc603",
   "metadata": {},
   "outputs": [],
   "source": [
    "import pandas as pandas\n",
    "import seaborn as sns\n",
    "\n"
   ]
  },
  {
   "cell_type": "code",
   "execution_count": 16,
   "id": "de684563",
   "metadata": {},
   "outputs": [
    {
     "name": "stdout",
     "output_type": "stream",
     "text": [
      "               pickup             dropoff  passengers  distance  fare   tip  \\\n",
      "0 2019-03-23 20:21:09 2019-03-23 20:27:24           1      1.60   7.0  2.15   \n",
      "1 2019-03-04 16:11:55 2019-03-04 16:19:00           1      0.79   5.0  0.00   \n",
      "2 2019-03-27 17:53:01 2019-03-27 18:00:25           1      1.37   7.5  2.36   \n",
      "3 2019-03-10 01:23:59 2019-03-10 01:49:51           1      7.70  27.0  6.15   \n",
      "4 2019-03-30 13:27:42 2019-03-30 13:37:14           3      2.16   9.0  1.10   \n",
      "\n",
      "   tolls  total   color      payment            pickup_zone  \\\n",
      "0    0.0  12.95  yellow  credit card        Lenox Hill West   \n",
      "1    0.0   9.30  yellow         cash  Upper West Side South   \n",
      "2    0.0  14.16  yellow  credit card          Alphabet City   \n",
      "3    0.0  36.95  yellow  credit card              Hudson Sq   \n",
      "4    0.0  13.40  yellow  credit card           Midtown East   \n",
      "\n",
      "            dropoff_zone pickup_borough dropoff_borough  \n",
      "0    UN/Turtle Bay South      Manhattan       Manhattan  \n",
      "1  Upper West Side South      Manhattan       Manhattan  \n",
      "2           West Village      Manhattan       Manhattan  \n",
      "3         Yorkville West      Manhattan       Manhattan  \n",
      "4         Yorkville West      Manhattan       Manhattan  \n"
     ]
    }
   ],
   "source": [
    "# lade den datensatz aus seaborn\n",
    "df = sns.load_dataset(\"taxis\")\n",
    "\n",
    "print(df.head())\n",
    "\n",
    "# speichere ihn als csv\n",
    "df.to_csv(\"taxis.csv\", index=False)"
   ]
  },
  {
   "cell_type": "code",
   "execution_count": 19,
   "id": "e24ee21f",
   "metadata": {},
   "outputs": [
    {
     "data": {
      "image/png": "[encoded data removed]",
      "text/plain": [
       "<Figure size 640x480 with 1 Axes>"
      ]
     },
     "metadata": {},
     "output_type": "display_data"
    }
   ],
   "source": [
    "import matplotlib.pyplot as plt\n",
    "\n",
    "#stelle die Spalte total als boxplot dar\n",
    "sns.boxplot(x=df[\"total\"])  \n",
    "\n",
    "plt.show()\n",
    "\n"
   ]
  }
 ],
 "metadata": {
  "kernelspec": {
   "display_name": "base",
   "language": "python",
   "name": "python3"
  },
  "language_info": {
   "codemirror_mode": {
    "name": "ipython",
    "version": 3
   },
   "file_extension": ".py",
   "mimetype": "text/x-python",
   "name": "python",
   "nbconvert_exporter": "python",
   "pygments_lexer": "ipython3",
   "version": "3.12.7"
  }
 },
 "nbformat": 4,
 "nbformat_minor": 5
}
